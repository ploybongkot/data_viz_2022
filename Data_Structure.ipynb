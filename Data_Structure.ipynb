{
  "nbformat": 4,
  "nbformat_minor": 0,
  "metadata": {
    "colab": {
      "name": "Data Structure.ipynb",
      "provenance": [],
      "authorship_tag": "ABX9TyPNwtkROAPqfYqRtsUzz82e",
      "include_colab_link": true
    },
    "kernelspec": {
      "name": "python3",
      "display_name": "Python 3"
    },
    "language_info": {
      "name": "python"
    }
  },
  "cells": [
    {
      "cell_type": "markdown",
      "metadata": {
        "id": "view-in-github",
        "colab_type": "text"
      },
      "source": [
        "<a href=\"https://colab.research.google.com/github/ploybongkot/data_viz_2022/blob/main/Data_Structure.ipynb\" target=\"_parent\"><img src=\"https://colab.research.google.com/assets/colab-badge.svg\" alt=\"Open In Colab\"/></a>"
      ]
    },
    {
      "cell_type": "markdown",
      "source": [
        "# Data structure (โครงสร้างข้อมูล) \n",
        "เอาไว้เก็บข้อมูลหลายๆตัว การเก็บข้อมูลหลายๆตัวก็มีโครงสร้างของมัน Data struceture ใช้สำหรับเก็บข้อมูลหลายๆตัวไว้ด้วยกันอย่างเป็นระเบียบ"
      ],
      "metadata": {
        "id": "fjrJeAbI5zlg"
      }
    },
    {
      "cell_type": "markdown",
      "source": [
        "## `List()`\n",
        "คือโครงสร้างข้อมูลที่ง่ายที่สุดที่เก็บอะไรก็ได้ การเก็บข้อมูลแบบเอามาต่อกัน เก็บอะไรไว้ด้วยกันก็ได้ ไม่ว่าจะเป็น int float string\n",
        "- เก็บอะไรก็ได้\n",
        "- ลำดับในการเก็บมีความสำคัญ"
      ],
      "metadata": {
        "id": "gdvZCSdk6ifp"
      }
    },
    {
      "cell_type": "code",
      "execution_count": 1,
      "metadata": {
        "id": "xuUvz2gn4qWH"
      },
      "outputs": [],
      "source": [
        "list_a = [1,2,3,4,5,6] # [ ] square brackets"
      ]
    },
    {
      "cell_type": "code",
      "source": [
        "list_a"
      ],
      "metadata": {
        "colab": {
          "base_uri": "https://localhost:8080/"
        },
        "id": "efKII6NI68rf",
        "outputId": "cf8488f1-ae53-4e39-a947-abb309d3c135"
      },
      "execution_count": 2,
      "outputs": [
        {
          "output_type": "execute_result",
          "data": {
            "text/plain": [
              "[1, 2, 3, 4, 5, 6]"
            ]
          },
          "metadata": {},
          "execution_count": 2
        }
      ]
    },
    {
      "cell_type": "code",
      "source": [
        "list_b = ['ab',2,3.14,list_a]"
      ],
      "metadata": {
        "id": "5JKO6HsBN1z8"
      },
      "execution_count": 3,
      "outputs": []
    },
    {
      "cell_type": "code",
      "source": [
        "list_b"
      ],
      "metadata": {
        "colab": {
          "base_uri": "https://localhost:8080/"
        },
        "id": "nx2Jd8Ab8EXB",
        "outputId": "71c2f6b4-bca3-4b43-dc67-cfa97d3f309a"
      },
      "execution_count": 4,
      "outputs": [
        {
          "output_type": "execute_result",
          "data": {
            "text/plain": [
              "['ab', 2, 3.14, [1, 2, 3, 4, 5, 6]]"
            ]
          },
          "metadata": {},
          "execution_count": 4
        }
      ]
    },
    {
      "cell_type": "markdown",
      "source": [
        "### indexing การชี้สมาชิกใน list ด้วย เลขลำดับของ list"
      ],
      "metadata": {
        "id": "igYC_3o98L4e"
      }
    },
    {
      "cell_type": "code",
      "source": [
        "list_a[3]   # ดึงข้อมูลตัวที่ 3 ของ list_a (เริ่มนับจาก 0,1,2,...,)"
      ],
      "metadata": {
        "id": "zK2NvWV68diG",
        "outputId": "d39cfd8c-2c07-43ab-c3c8-8e59c294e4bc",
        "colab": {
          "base_uri": "https://localhost:8080/"
        }
      },
      "execution_count": 5,
      "outputs": [
        {
          "output_type": "execute_result",
          "data": {
            "text/plain": [
              "4"
            ]
          },
          "metadata": {},
          "execution_count": 5
        }
      ]
    },
    {
      "cell_type": "code",
      "source": [
        "list_b[3]"
      ],
      "metadata": {
        "id": "R7SFnco8OCs7",
        "outputId": "620ea202-4f66-47fd-fb3d-e93f3d899816",
        "colab": {
          "base_uri": "https://localhost:8080/"
        }
      },
      "execution_count": 6,
      "outputs": [
        {
          "output_type": "execute_result",
          "data": {
            "text/plain": [
              "[1, 2, 3, 4, 5, 6]"
            ]
          },
          "metadata": {},
          "execution_count": 6
        }
      ]
    },
    {
      "cell_type": "code",
      "source": [
        "list_b[3][4]"
      ],
      "metadata": {
        "id": "Qfu2s-5DOGf7",
        "outputId": "0582497a-7cad-476c-e240-86678e260c80",
        "colab": {
          "base_uri": "https://localhost:8080/"
        }
      },
      "execution_count": 7,
      "outputs": [
        {
          "output_type": "execute_result",
          "data": {
            "text/plain": [
              "5"
            ]
          },
          "metadata": {},
          "execution_count": 7
        }
      ]
    },
    {
      "cell_type": "code",
      "source": [
        "list_a[-1]      # index -1 คือตัวสุดท้ายของ list"
      ],
      "metadata": {
        "id": "KnqXUu5fOJOa",
        "outputId": "e65e1ddf-53d6-4af0-8ae5-6514a2bb4a04",
        "colab": {
          "base_uri": "https://localhost:8080/"
        }
      },
      "execution_count": 8,
      "outputs": [
        {
          "output_type": "execute_result",
          "data": {
            "text/plain": [
              "6"
            ]
          },
          "metadata": {},
          "execution_count": 8
        }
      ]
    },
    {
      "cell_type": "code",
      "source": [
        "list_a[-4]"
      ],
      "metadata": {
        "id": "boyoboQjOMQz",
        "outputId": "95d2fdde-f8b6-441c-8647-19fcad3c1bb4",
        "colab": {
          "base_uri": "https://localhost:8080/"
        }
      },
      "execution_count": 9,
      "outputs": [
        {
          "output_type": "execute_result",
          "data": {
            "text/plain": [
              "3"
            ]
          },
          "metadata": {},
          "execution_count": 9
        }
      ]
    },
    {
      "cell_type": "markdown",
      "source": [
        "### การสร้าง `list()`"
      ],
      "metadata": {
        "id": "mhU4eQQH9-sW"
      }
    },
    {
      "cell_type": "code",
      "source": [
        "list_x1 = [] # แบบที่ 1\n",
        "list_x2 = list() # แบบที่ 2"
      ],
      "metadata": {
        "id": "eANKO5B2-DRe"
      },
      "execution_count": 10,
      "outputs": []
    },
    {
      "cell_type": "code",
      "source": [
        "print(list_x1)\n",
        "print(list_x2)"
      ],
      "metadata": {
        "colab": {
          "base_uri": "https://localhost:8080/"
        },
        "id": "ceiv1xxK-V5O",
        "outputId": "c3d0c899-33ad-437f-d7ba-38297f20e357"
      },
      "execution_count": 11,
      "outputs": [
        {
          "output_type": "stream",
          "name": "stdout",
          "text": [
            "[]\n",
            "[]\n"
          ]
        }
      ]
    },
    {
      "cell_type": "markdown",
      "source": [
        "### เพิ่มสมาชิกเข้าไปใน list ด้วย `append()`"
      ],
      "metadata": {
        "id": "nWVwYCfM-gB3"
      }
    },
    {
      "cell_type": "code",
      "source": [
        "list_x1.append(2) # เพิ่ม 2 เข้าไปใน list_x1"
      ],
      "metadata": {
        "id": "FJymvXsf-siF"
      },
      "execution_count": 12,
      "outputs": []
    },
    {
      "cell_type": "code",
      "source": [
        "list_x1"
      ],
      "metadata": {
        "colab": {
          "base_uri": "https://localhost:8080/"
        },
        "id": "9JjpEqap-yeG",
        "outputId": "9f589ae3-746b-4e4d-d564-7e7679c1df2e"
      },
      "execution_count": 13,
      "outputs": [
        {
          "output_type": "execute_result",
          "data": {
            "text/plain": [
              "[2]"
            ]
          },
          "metadata": {},
          "execution_count": 13
        }
      ]
    },
    {
      "cell_type": "code",
      "source": [
        "list_x1.append(4) # เพิ่ม 4 เข้าไปใน list_x1\n",
        "print(list_x1) # run กี่รอบก็จะเพิ่มเข้าไปเท่านั้น"
      ],
      "metadata": {
        "colab": {
          "base_uri": "https://localhost:8080/"
        },
        "id": "IDUnL2ws-1A1",
        "outputId": "18e290cb-4677-410f-aa67-042a3ec8bc6d"
      },
      "execution_count": 14,
      "outputs": [
        {
          "output_type": "stream",
          "name": "stdout",
          "text": [
            "[2, 4]\n"
          ]
        }
      ]
    },
    {
      "cell_type": "code",
      "source": [
        "list_x2.append('ha') # รันตรงนี้สองรอบอะ"
      ],
      "metadata": {
        "id": "QdNSmykyOnpT"
      },
      "execution_count": 15,
      "outputs": []
    },
    {
      "cell_type": "code",
      "source": [
        "list_x2     # run -> list_x2.append('ha') สองรอบ จะได้ ['ha', 'ha']"
      ],
      "metadata": {
        "id": "_WQfU0BEOr7M",
        "outputId": "cf3e7b11-88cd-4ced-9465-52951088d912",
        "colab": {
          "base_uri": "https://localhost:8080/"
        }
      },
      "execution_count": 16,
      "outputs": [
        {
          "output_type": "execute_result",
          "data": {
            "text/plain": [
              "['ha']"
            ]
          },
          "metadata": {},
          "execution_count": 16
        }
      ]
    },
    {
      "cell_type": "markdown",
      "source": [
        "### ลบสมาชิกจาก list \n",
        "ปกติเขาไม่ค่อยทำกันนะ มันงง"
      ],
      "metadata": {
        "id": "U6IZYP1hAOxU"
      }
    },
    {
      "cell_type": "code",
      "source": [
        "list_x1.append('ha')"
      ],
      "metadata": {
        "id": "oztoW3mlAS69"
      },
      "execution_count": 17,
      "outputs": []
    },
    {
      "cell_type": "code",
      "source": [
        "list_x1"
      ],
      "metadata": {
        "colab": {
          "base_uri": "https://localhost:8080/"
        },
        "id": "XuaKcTAuAZ7V",
        "outputId": "09cd3e42-7390-41ee-85bd-e9f0b690fff6"
      },
      "execution_count": 18,
      "outputs": [
        {
          "output_type": "execute_result",
          "data": {
            "text/plain": [
              "[2, 4, 'ha']"
            ]
          },
          "metadata": {},
          "execution_count": 18
        }
      ]
    },
    {
      "cell_type": "code",
      "source": [
        "list_x1.pop() # pop ใช้ดึงสมาชิกตัวหลังสุดออกมา"
      ],
      "metadata": {
        "id": "7Y-i44xUB690",
        "outputId": "f95221d9-d611-47d2-dd80-e96b664d7b0c",
        "colab": {
          "base_uri": "https://localhost:8080/",
          "height": 0
        }
      },
      "execution_count": 19,
      "outputs": [
        {
          "output_type": "execute_result",
          "data": {
            "application/vnd.google.colaboratory.intrinsic+json": {
              "type": "string"
            },
            "text/plain": [
              "'ha'"
            ]
          },
          "metadata": {},
          "execution_count": 19
        }
      ]
    },
    {
      "cell_type": "code",
      "source": [
        "list_x1"
      ],
      "metadata": {
        "colab": {
          "base_uri": "https://localhost:8080/"
        },
        "id": "bIYxtGYRAs-8",
        "outputId": "5cb976cd-789d-4a89-9732-16627d78f281"
      },
      "execution_count": 20,
      "outputs": [
        {
          "output_type": "execute_result",
          "data": {
            "text/plain": [
              "[2, 4]"
            ]
          },
          "metadata": {},
          "execution_count": 20
        }
      ]
    },
    {
      "cell_type": "markdown",
      "source": [
        "### `len()` ตรวจสอบสมาชิกของ list"
      ],
      "metadata": {
        "id": "iTptiLN_CFRd"
      }
    },
    {
      "cell_type": "code",
      "source": [
        "print(list_b)\n",
        "print(len(list_b)) # เราจะนับตรง , ถ้ามี , 3 ตัว แสดงว่ามีสมาชิก 4 ตัว"
      ],
      "metadata": {
        "colab": {
          "base_uri": "https://localhost:8080/"
        },
        "id": "772w390ZCNtb",
        "outputId": "e7ed3ec8-3de2-41cd-97e5-65b013e2b366"
      },
      "execution_count": 21,
      "outputs": [
        {
          "output_type": "stream",
          "name": "stdout",
          "text": [
            "['ab', 2, 3.14, [1, 2, 3, 4, 5, 6]]\n",
            "4\n"
          ]
        }
      ]
    },
    {
      "cell_type": "code",
      "source": [
        "len(list_a)     # len จะนับจำนวนที่แท้จริง (เริ่มจาก 1 ไม่ใช่ 0)"
      ],
      "metadata": {
        "id": "LhZc5VoIPuB7",
        "outputId": "3a9f75a6-6c84-408c-abc3-7f83a8b5e1c2",
        "colab": {
          "base_uri": "https://localhost:8080/"
        }
      },
      "execution_count": 22,
      "outputs": [
        {
          "output_type": "execute_result",
          "data": {
            "text/plain": [
              "6"
            ]
          },
          "metadata": {},
          "execution_count": 22
        }
      ]
    },
    {
      "cell_type": "markdown",
      "source": [
        "### String is a list of chaacters"
      ],
      "metadata": {
        "id": "4qjrwBoUC9ZV"
      }
    },
    {
      "cell_type": "code",
      "source": [
        "at_stat = 'Department of Statistics, Faculty of Science'"
      ],
      "metadata": {
        "id": "6CKJ2h-xDEpz"
      },
      "execution_count": 23,
      "outputs": []
    },
    {
      "cell_type": "code",
      "source": [
        "at_stat[10]"
      ],
      "metadata": {
        "colab": {
          "base_uri": "https://localhost:8080/",
          "height": 0
        },
        "id": "2N8t9Al5DSor",
        "outputId": "ed98ad81-1d56-4eb5-bf68-cd54728a04bd"
      },
      "execution_count": 24,
      "outputs": [
        {
          "output_type": "execute_result",
          "data": {
            "application/vnd.google.colaboratory.intrinsic+json": {
              "type": "string"
            },
            "text/plain": [
              "' '"
            ]
          },
          "metadata": {},
          "execution_count": 24
        }
      ]
    },
    {
      "cell_type": "code",
      "source": [
        "len(at_stat)"
      ],
      "metadata": {
        "colab": {
          "base_uri": "https://localhost:8080/"
        },
        "id": "aRUU-jZKDYL9",
        "outputId": "7b27dec8-f69c-4e61-e867-624df9605379"
      },
      "execution_count": 25,
      "outputs": [
        {
          "output_type": "execute_result",
          "data": {
            "text/plain": [
              "44"
            ]
          },
          "metadata": {},
          "execution_count": 25
        }
      ]
    },
    {
      "cell_type": "markdown",
      "source": [
        "\n",
        "### List Slicing `:`\n",
        "`list[จุดเริ่มต้น:จุดสุดท้าย)`\n",
        "\n",
        "`list[จุดเริ่มต้น:จุดสุดท้าย:step)`\n",
        "\n",
        "** step คือ กระโดดกี่ตัว\n",
        "การเฉือน list"
      ],
      "metadata": {
        "id": "yt7dRiYrDjty"
      }
    },
    {
      "cell_type": "code",
      "source": [
        "list_a"
      ],
      "metadata": {
        "id": "5GATPP3SDydD",
        "outputId": "c77bdae4-e0b7-44f1-f083-c7d03b1b320c",
        "colab": {
          "base_uri": "https://localhost:8080/"
        }
      },
      "execution_count": 26,
      "outputs": [
        {
          "output_type": "execute_result",
          "data": {
            "text/plain": [
              "[1, 2, 3, 4, 5, 6]"
            ]
          },
          "metadata": {},
          "execution_count": 26
        }
      ]
    },
    {
      "cell_type": "code",
      "source": [
        "list_a[2]       # ทำแบบนี้จะดึงมาได้แค่ตัวเดียว"
      ],
      "metadata": {
        "id": "dKLiKoWuQE5y",
        "outputId": "e2ece997-c904-45f4-e3e9-31b1278f3cab",
        "colab": {
          "base_uri": "https://localhost:8080/"
        }
      },
      "execution_count": 27,
      "outputs": [
        {
          "output_type": "execute_result",
          "data": {
            "text/plain": [
              "3"
            ]
          },
          "metadata": {},
          "execution_count": 27
        }
      ]
    },
    {
      "cell_type": "markdown",
      "source": [
        "#### `:` colon"
      ],
      "metadata": {
        "id": "zPWv4RuDQLMh"
      }
    },
    {
      "cell_type": "code",
      "source": [
        "list_a[-3:]     # ตัดมาแค่ 3 ตัวสุดท้าย"
      ],
      "metadata": {
        "id": "TPqQPLS8QP0B",
        "outputId": "d7d99f7f-2a16-4599-ca59-16bb17574d7a",
        "colab": {
          "base_uri": "https://localhost:8080/"
        }
      },
      "execution_count": 28,
      "outputs": [
        {
          "output_type": "execute_result",
          "data": {
            "text/plain": [
              "[4, 5, 6]"
            ]
          },
          "metadata": {},
          "execution_count": 28
        }
      ]
    },
    {
      "cell_type": "code",
      "source": [
        "list_a[1:4]     # ตัด 2,3,4 มา   # เริ่มนับจาก 0,1,2,..."
      ],
      "metadata": {
        "id": "sJB3Dcz-QS-o",
        "outputId": "696b080a-c46b-4a41-c062-5ee509cb6297",
        "colab": {
          "base_uri": "https://localhost:8080/"
        }
      },
      "execution_count": 29,
      "outputs": [
        {
          "output_type": "execute_result",
          "data": {
            "text/plain": [
              "[2, 3, 4]"
            ]
          },
          "metadata": {},
          "execution_count": 29
        }
      ]
    },
    {
      "cell_type": "code",
      "source": [
        "list_a[:]       # เอาทุกตัว"
      ],
      "metadata": {
        "id": "7CDpxuzGQV4J",
        "outputId": "549f266e-da9f-4f7a-c888-8f130adff7ef",
        "colab": {
          "base_uri": "https://localhost:8080/"
        }
      },
      "execution_count": 30,
      "outputs": [
        {
          "output_type": "execute_result",
          "data": {
            "text/plain": [
              "[1, 2, 3, 4, 5, 6]"
            ]
          },
          "metadata": {},
          "execution_count": 30
        }
      ]
    },
    {
      "cell_type": "markdown",
      "source": [
        "#### step"
      ],
      "metadata": {
        "id": "Wt5DEq9wQY4A"
      }
    },
    {
      "cell_type": "code",
      "source": [
        "list_c = [1,2,3,4,5,6,7,8,9,10,11,12,13]"
      ],
      "metadata": {
        "id": "A8z-dFxQQbNp"
      },
      "execution_count": 31,
      "outputs": []
    },
    {
      "cell_type": "code",
      "source": [
        "list_c[:10:]"
      ],
      "metadata": {
        "id": "_bijYYiTQd7R",
        "outputId": "7b53db55-66ca-4b32-8938-6f6b98eaca9f",
        "colab": {
          "base_uri": "https://localhost:8080/"
        }
      },
      "execution_count": 32,
      "outputs": [
        {
          "output_type": "execute_result",
          "data": {
            "text/plain": [
              "[1, 2, 3, 4, 5, 6, 7, 8, 9, 10]"
            ]
          },
          "metadata": {},
          "execution_count": 32
        }
      ]
    },
    {
      "cell_type": "code",
      "source": [
        "list_c[:10:2]"
      ],
      "metadata": {
        "id": "iYj2JmW1Qmd5",
        "outputId": "9ddd0dca-c8d1-4f3d-f71d-067a2290f32e",
        "colab": {
          "base_uri": "https://localhost:8080/"
        }
      },
      "execution_count": 33,
      "outputs": [
        {
          "output_type": "execute_result",
          "data": {
            "text/plain": [
              "[1, 3, 5, 7, 9]"
            ]
          },
          "metadata": {},
          "execution_count": 33
        }
      ]
    },
    {
      "cell_type": "code",
      "source": [
        "list_c[::-1]        # ดึงจากท้ายมาหน้า (สลับ)"
      ],
      "metadata": {
        "id": "fa5kjckSQqMx",
        "outputId": "e7ee63cc-5a6e-43b0-d825-e8e921e88d65",
        "colab": {
          "base_uri": "https://localhost:8080/"
        }
      },
      "execution_count": 34,
      "outputs": [
        {
          "output_type": "execute_result",
          "data": {
            "text/plain": [
              "[13, 12, 11, 10, 9, 8, 7, 6, 5, 4, 3, 2, 1]"
            ]
          },
          "metadata": {},
          "execution_count": 34
        }
      ]
    },
    {
      "cell_type": "markdown",
      "source": [
        "ข้อความตัวเอียง### `range()`"
      ],
      "metadata": {
        "id": "cMEQUHsEQtbS"
      }
    },
    {
      "cell_type": "code",
      "source": [
        "range(21)       # range ความยาว 21 ตัว ค่า 0-20"
      ],
      "metadata": {
        "id": "K7ZYtudMQ2-5",
        "outputId": "7f810043-c004-4ffa-df74-ca06751e5efa",
        "colab": {
          "base_uri": "https://localhost:8080/"
        }
      },
      "execution_count": 35,
      "outputs": [
        {
          "output_type": "execute_result",
          "data": {
            "text/plain": [
              "range(0, 21)"
            ]
          },
          "metadata": {},
          "execution_count": 35
        }
      ]
    },
    {
      "cell_type": "code",
      "source": [
        "a = list(range(21))"
      ],
      "metadata": {
        "id": "YJbX6gSkQ6-i"
      },
      "execution_count": 36,
      "outputs": []
    },
    {
      "cell_type": "code",
      "source": [
        "a"
      ],
      "metadata": {
        "id": "cx5KSB36Q9bq",
        "outputId": "9ac3ea4e-a185-4367-86f8-af52ac7bd6b8",
        "colab": {
          "base_uri": "https://localhost:8080/"
        }
      },
      "execution_count": 37,
      "outputs": [
        {
          "output_type": "execute_result",
          "data": {
            "text/plain": [
              "[0, 1, 2, 3, 4, 5, 6, 7, 8, 9, 10, 11, 12, 13, 14, 15, 16, 17, 18, 19, 20]"
            ]
          },
          "metadata": {},
          "execution_count": 37
        }
      ]
    },
    {
      "cell_type": "code",
      "source": [
        "list(range(1,21))       # input 2 ตัว"
      ],
      "metadata": {
        "id": "GzK8hqRJRFEx",
        "outputId": "b96de17f-5be7-4e5f-cb3b-93bceaafc9c6",
        "colab": {
          "base_uri": "https://localhost:8080/"
        }
      },
      "execution_count": 38,
      "outputs": [
        {
          "output_type": "execute_result",
          "data": {
            "text/plain": [
              "[1, 2, 3, 4, 5, 6, 7, 8, 9, 10, 11, 12, 13, 14, 15, 16, 17, 18, 19, 20]"
            ]
          },
          "metadata": {},
          "execution_count": 38
        }
      ]
    },
    {
      "cell_type": "markdown",
      "source": [
        "## HW2 คำนวนเวลาเป็นวินาทีขอเวลาต่อไปนี้โดยใช้คำสั่ง split() ช่วย (print ออกมาให้สวยงาม)\n",
        "- 12:30:15\n",
        "- 13:41:07\n",
        "- 09:11:50\n",
        "- 21:30:15\n",
        "- 03:10:15"
      ],
      "metadata": {
        "id": "JQItsRP0RJfn"
      }
    },
    {
      "cell_type": "code",
      "source": [
        "#Ex00 01:02:03\n",
        "\n",
        "Ex00 = (1*60*60) + (2*60) + 3\n",
        "print(f'01:02:03 แปลงเป็นวินาที ได้ {Ex00} วินาที')"
      ],
      "metadata": {
        "id": "8rOjocbrRQ6d",
        "outputId": "95b2d2c6-2875-4411-9db6-8bf8116508a5",
        "colab": {
          "base_uri": "https://localhost:8080/"
        }
      },
      "execution_count": 39,
      "outputs": [
        {
          "output_type": "stream",
          "name": "stdout",
          "text": [
            "01:02:03 แปลงเป็นวินาที ได้ 3723 วินาที\n"
          ]
        }
      ]
    },
    {
      "cell_type": "code",
      "source": [
        "#Ex01 12:30:15\n",
        "\n",
        "Ex01 = '12:30:15'\n",
        "Ex01_sp = Ex01.split(':')\n",
        "Ex01_sp = int(Ex01_sp[0])*60*60 + int(Ex01_sp[1])*60 + int(Ex01_sp[2])\n",
        "print(f'{Ex01} แปลงเป็นวินาที ได้ {Ex01_sp} วินาที')"
      ],
      "metadata": {
        "id": "sQSF1gt4RatZ",
        "outputId": "679072cc-012a-4574-fb2e-87ff7239521e",
        "colab": {
          "base_uri": "https://localhost:8080/"
        }
      },
      "execution_count": 40,
      "outputs": [
        {
          "output_type": "stream",
          "name": "stdout",
          "text": [
            "12:30:15 แปลงเป็นวินาที ได้ 45015 วินาที\n"
          ]
        }
      ]
    },
    {
      "cell_type": "code",
      "source": [
        "#Ex02 13:41:07\n",
        "\n",
        "Ex02 = '13:41:07'\n",
        "Ex02_sp = Ex02.split(':')\n",
        "Ex02_sp = int(Ex02_sp[0])*60*60 + int(Ex02_sp[1])*60 + int(Ex02_sp[2])\n",
        "print(f'{Ex02} แปลงเป็นวินาที ได้ {Ex02_sp} วินาที')"
      ],
      "metadata": {
        "id": "2hzrEgZXRhRw",
        "outputId": "7c17c386-d783-4f38-9e45-7d546d3803a3",
        "colab": {
          "base_uri": "https://localhost:8080/"
        }
      },
      "execution_count": 41,
      "outputs": [
        {
          "output_type": "stream",
          "name": "stdout",
          "text": [
            "13:41:07 แปลงเป็นวินาที ได้ 49267 วินาที\n"
          ]
        }
      ]
    },
    {
      "cell_type": "code",
      "source": [
        "#Ex03 09:11:50\n",
        "\n",
        "Ex03 = '09:11:50'\n",
        "Ex03_sp = Ex03.split(':')\n",
        "Ex03_sp = int(Ex03_sp[0])*60*60 + int(Ex03_sp[1])*60 + int(Ex03_sp[2])\n",
        "print(f'{Ex03} แปลงเป็นวินาที ได้ {Ex03_sp} วินาที')"
      ],
      "metadata": {
        "id": "2dCl3qZZRm34",
        "outputId": "8490bcaa-7d03-43ea-bc4a-5e81d50dde75",
        "colab": {
          "base_uri": "https://localhost:8080/"
        }
      },
      "execution_count": 42,
      "outputs": [
        {
          "output_type": "stream",
          "name": "stdout",
          "text": [
            "09:11:50 แปลงเป็นวินาที ได้ 33110 วินาที\n"
          ]
        }
      ]
    },
    {
      "cell_type": "code",
      "source": [
        "#Ex04 21:30:15\n",
        "\n",
        "Ex04 = '21:30:15'\n",
        "Ex04_sp = Ex04.split(':')\n",
        "Ex04_sp = int(Ex04_sp[0])*60*60 + int(Ex04_sp[1])*60 + int(Ex04_sp[2])\n",
        "print(f'{Ex04} แปลงเป็นวินาที ได้ {Ex04_sp} วินาที')"
      ],
      "metadata": {
        "id": "ngQmAgkORqEl",
        "outputId": "ad7c34fc-0dcb-4abb-f66f-73d30e4d7e6d",
        "colab": {
          "base_uri": "https://localhost:8080/"
        }
      },
      "execution_count": 43,
      "outputs": [
        {
          "output_type": "stream",
          "name": "stdout",
          "text": [
            "21:30:15 แปลงเป็นวินาที ได้ 77415 วินาที\n"
          ]
        }
      ]
    },
    {
      "cell_type": "code",
      "source": [
        "#Ex05 03:10:15\n",
        "\n",
        "Ex05 = '03:10:15'\n",
        "Ex05_sp = Ex05.split(':')\n",
        "Ex05_sp = int(Ex05_sp[0])*60*60 + int(Ex05_sp[1])*60 + int(Ex05_sp[2])\n",
        "print(f'{Ex05} แปลงเป็นวินาที ได้ {Ex05_sp} วินาที')"
      ],
      "metadata": {
        "id": "h7vviBNnR353",
        "outputId": "7a740d93-9aa0-46ed-c9b2-f756190f71d2",
        "colab": {
          "base_uri": "https://localhost:8080/"
        }
      },
      "execution_count": 44,
      "outputs": [
        {
          "output_type": "stream",
          "name": "stdout",
          "text": [
            "03:10:15 แปลงเป็นวินาที ได้ 11415 วินาที\n"
          ]
        }
      ]
    },
    {
      "cell_type": "markdown",
      "source": [
        "## Dictionary\n",
        " - อัพเกรดมาจาก list นิดนึง \n",
        " - มีคุณสมบัติคล้าย list เลย เก็บอะไรก็ได้ \n",
        " - index เป็นอะไรก็ได้ ไม่จำเป็นต้องเป็นเลขลำดับ\n",
        " - ลำดับไม่ม่ความสำคัญ"
      ],
      "metadata": {
        "id": "t7IS9dW_OpkI"
      }
    },
    {
      "cell_type": "code",
      "source": [
        "dict_a = {1: 'Happy','N' : 'New','2022':'Year'} # { } curly brackets"
      ],
      "metadata": {
        "id": "IntCr07IPCHH"
      },
      "execution_count": 45,
      "outputs": []
    },
    {
      "cell_type": "markdown",
      "source": [
        "### การชี้สมาชิกใน Dictionary"
      ],
      "metadata": {
        "id": "f1jatX0GQ-wG"
      }
    },
    {
      "cell_type": "code",
      "source": [
        "dict_a[1]"
      ],
      "metadata": {
        "id": "1HdqqLS9QiMX",
        "outputId": "5894f385-a2bc-4ed4-ae34-76fef0cf40b7",
        "colab": {
          "base_uri": "https://localhost:8080/",
          "height": 35
        }
      },
      "execution_count": 46,
      "outputs": [
        {
          "output_type": "execute_result",
          "data": {
            "application/vnd.google.colaboratory.intrinsic+json": {
              "type": "string"
            },
            "text/plain": [
              "'Happy'"
            ]
          },
          "metadata": {},
          "execution_count": 46
        }
      ]
    },
    {
      "cell_type": "code",
      "source": [
        "dict_a['N']"
      ],
      "metadata": {
        "id": "FTW1phDrQmt4",
        "outputId": "a61d2396-a961-4229-8411-11293134f5ef",
        "colab": {
          "base_uri": "https://localhost:8080/",
          "height": 35
        }
      },
      "execution_count": 48,
      "outputs": [
        {
          "output_type": "execute_result",
          "data": {
            "application/vnd.google.colaboratory.intrinsic+json": {
              "type": "string"
            },
            "text/plain": [
              "'New'"
            ]
          },
          "metadata": {},
          "execution_count": 48
        }
      ]
    },
    {
      "cell_type": "code",
      "source": [
        "dict_a.keys()"
      ],
      "metadata": {
        "id": "B5Pox_ViQtaO",
        "outputId": "d71fd6fb-02a8-41a6-cf47-aed90e894df2",
        "colab": {
          "base_uri": "https://localhost:8080/"
        }
      },
      "execution_count": 49,
      "outputs": [
        {
          "output_type": "execute_result",
          "data": {
            "text/plain": [
              "dict_keys([1, 'N', '2022'])"
            ]
          },
          "metadata": {},
          "execution_count": 49
        }
      ]
    },
    {
      "cell_type": "code",
      "source": [
        "dict_a.values()"
      ],
      "metadata": {
        "id": "Ow9aAmAtQ1ev",
        "outputId": "1f69465e-6e2a-42fc-d4d6-68c3250a28bb",
        "colab": {
          "base_uri": "https://localhost:8080/"
        }
      },
      "execution_count": 50,
      "outputs": [
        {
          "output_type": "execute_result",
          "data": {
            "text/plain": [
              "dict_values(['Happy', 'New', 'Year'])"
            ]
          },
          "metadata": {},
          "execution_count": 50
        }
      ]
    },
    {
      "cell_type": "markdown",
      "source": [
        "### การเพิ่มสมาชิกลงไปใน Dictionry"
      ],
      "metadata": {
        "id": "UZIBlGqdRG0G"
      }
    },
    {
      "cell_type": "code",
      "source": [
        "dict_a"
      ],
      "metadata": {
        "id": "p2wIK4-hRYPm",
        "outputId": "0c5c2816-cf32-4ee3-9a60-9b2727c4f8c1",
        "colab": {
          "base_uri": "https://localhost:8080/"
        }
      },
      "execution_count": 54,
      "outputs": [
        {
          "output_type": "execute_result",
          "data": {
            "text/plain": [
              "{1: 'Happy', '2022': 'Year', 'N': 'New'}"
            ]
          },
          "metadata": {},
          "execution_count": 54
        }
      ]
    },
    {
      "cell_type": "code",
      "source": [
        "dict_a['N'] = 'NNNNEEEEWWWW'"
      ],
      "metadata": {
        "id": "wUkwvJ0tRqKI"
      },
      "execution_count": 55,
      "outputs": []
    },
    {
      "cell_type": "code",
      "source": [
        "dict_a"
      ],
      "metadata": {
        "id": "-u8zSaN8R0GX",
        "outputId": "bfd732cf-4521-4fdb-873a-3413976f4792",
        "colab": {
          "base_uri": "https://localhost:8080/"
        }
      },
      "execution_count": 56,
      "outputs": [
        {
          "output_type": "execute_result",
          "data": {
            "text/plain": [
              "{1: 'Happy', '2022': 'Year', 'N': 'NNNNEEEEWWWW'}"
            ]
          },
          "metadata": {},
          "execution_count": 56
        }
      ]
    },
    {
      "cell_type": "markdown",
      "source": [
        "## Numpy Array"
      ],
      "metadata": {
        "id": "FfJecgATOwjp"
      }
    },
    {
      "cell_type": "markdown",
      "source": [
        "- เก็บได้แต่ตัวเลข เพราไม่รู้จะเก็บตัวหลังสือในรูปแบบ 2 มิติ 3 มิติไปทำไม นั่นแหละ\n",
        "- อ้างอิงโดยใช้พิกัด ( 2 มิติ ก็มองเป็น Matrix)"
      ],
      "metadata": {
        "id": "Slc1dw6bUUQ2"
      }
    },
    {
      "cell_type": "code",
      "source": [
        "import numpy # เอามาใช้งาน"
      ],
      "metadata": {
        "id": "2FvxvmWVSfQ4"
      },
      "execution_count": 57,
      "outputs": []
    },
    {
      "cell_type": "markdown",
      "source": [
        "#### 1D array"
      ],
      "metadata": {
        "id": "q-kfxNFkYHCO"
      }
    },
    {
      "cell_type": "code",
      "source": [
        "list_A = [1,2,3,4,5]"
      ],
      "metadata": {
        "id": "aZaLMamhVuuV"
      },
      "execution_count": 60,
      "outputs": []
    },
    {
      "cell_type": "code",
      "source": [
        "arr_a = numpy.array(list_A) #arrar 1 มิติ เป็นเส้นยาวๆ"
      ],
      "metadata": {
        "id": "xsf9HCE8VV8X"
      },
      "execution_count": 61,
      "outputs": []
    },
    {
      "cell_type": "code",
      "source": [
        "arr_a"
      ],
      "metadata": {
        "id": "S_yKZBjnVqX9",
        "outputId": "a3edd421-4a90-46d7-d121-500d3940c892",
        "colab": {
          "base_uri": "https://localhost:8080/"
        }
      },
      "execution_count": 62,
      "outputs": [
        {
          "output_type": "execute_result",
          "data": {
            "text/plain": [
              "array([1, 2, 3, 4, 5])"
            ]
          },
          "metadata": {},
          "execution_count": 62
        }
      ]
    },
    {
      "cell_type": "code",
      "source": [
        "list_A"
      ],
      "metadata": {
        "id": "9O6KFnHlV7t9",
        "outputId": "5691c5fa-eda7-4a1e-e056-aa4db6176a56",
        "colab": {
          "base_uri": "https://localhost:8080/"
        }
      },
      "execution_count": 63,
      "outputs": [
        {
          "output_type": "execute_result",
          "data": {
            "text/plain": [
              "[1, 2, 3, 4, 5]"
            ]
          },
          "metadata": {},
          "execution_count": 63
        }
      ]
    },
    {
      "cell_type": "code",
      "source": [
        "arr_a[0]"
      ],
      "metadata": {
        "id": "bhqJ2T7-V_h0",
        "outputId": "3d91fec7-ac92-45f1-fa5c-23e8f6c9d5ff",
        "colab": {
          "base_uri": "https://localhost:8080/"
        }
      },
      "execution_count": 64,
      "outputs": [
        {
          "output_type": "execute_result",
          "data": {
            "text/plain": [
              "1"
            ]
          },
          "metadata": {},
          "execution_count": 64
        }
      ]
    },
    {
      "cell_type": "code",
      "source": [
        "list_A[0]"
      ],
      "metadata": {
        "id": "dlP1CHymWDs9",
        "outputId": "943f4a27-bc5b-4fc3-dcb9-03582978c6c8",
        "colab": {
          "base_uri": "https://localhost:8080/"
        }
      },
      "execution_count": 65,
      "outputs": [
        {
          "output_type": "execute_result",
          "data": {
            "text/plain": [
              "1"
            ]
          },
          "metadata": {},
          "execution_count": 65
        }
      ]
    },
    {
      "cell_type": "code",
      "source": [
        "5 *arr_a # คุณสมบัติของ Matrix ที่ชื่อว่า Scalar multiplication"
      ],
      "metadata": {
        "id": "n4qvgKybWIPF",
        "outputId": "3e158c1e-a8af-4faa-a21c-d34de4e0b107",
        "colab": {
          "base_uri": "https://localhost:8080/"
        }
      },
      "execution_count": 66,
      "outputs": [
        {
          "output_type": "execute_result",
          "data": {
            "text/plain": [
              "array([ 5, 10, 15, 20, 25])"
            ]
          },
          "metadata": {},
          "execution_count": 66
        }
      ]
    },
    {
      "cell_type": "code",
      "source": [
        "5*list_A #ถ้า * มันจะเอามาต่อกัน 5 รอบ"
      ],
      "metadata": {
        "id": "jCZJ2D5rWmMA",
        "outputId": "27a5ec0d-7f52-459d-d943-bbf013ba0358",
        "colab": {
          "base_uri": "https://localhost:8080/"
        }
      },
      "execution_count": 67,
      "outputs": [
        {
          "output_type": "execute_result",
          "data": {
            "text/plain": [
              "[1, 2, 3, 4, 5, 1, 2, 3, 4, 5, 1, 2, 3, 4, 5, 1, 2, 3, 4, 5, 1, 2, 3, 4, 5]"
            ]
          },
          "metadata": {},
          "execution_count": 67
        }
      ]
    },
    {
      "cell_type": "code",
      "source": [
        "arr_b = numpy.array([10,20,30,40,50])"
      ],
      "metadata": {
        "id": "-mrPY4N1XLiR"
      },
      "execution_count": 69,
      "outputs": []
    },
    {
      "cell_type": "code",
      "source": [
        "print(arr_a)"
      ],
      "metadata": {
        "id": "-YS5yqAYXa0M",
        "outputId": "af808636-effe-4e24-cdcc-3cee72a08345",
        "colab": {
          "base_uri": "https://localhost:8080/"
        }
      },
      "execution_count": 70,
      "outputs": [
        {
          "output_type": "stream",
          "name": "stdout",
          "text": [
            "[1 2 3 4 5]\n"
          ]
        }
      ]
    },
    {
      "cell_type": "code",
      "source": [
        "arr_a + arr_b # ตัวที่อยู่ตำแหน่งเดียวกันมาบวกกัน"
      ],
      "metadata": {
        "id": "bBljVKpvXou0",
        "outputId": "b0998a2a-3f07-4a7e-cdfc-6a08c3238981",
        "colab": {
          "base_uri": "https://localhost:8080/"
        }
      },
      "execution_count": 71,
      "outputs": [
        {
          "output_type": "execute_result",
          "data": {
            "text/plain": [
              "array([11, 22, 33, 44, 55])"
            ]
          },
          "metadata": {},
          "execution_count": 71
        }
      ]
    },
    {
      "cell_type": "markdown",
      "source": [
        "2D array"
      ],
      "metadata": {
        "id": "a1-m74dsYMbc"
      }
    },
    {
      "cell_type": "code",
      "source": [
        "import numpy as np #แสดงให้เห็นถึงความขี้เกียจของคนเขียนโค้ด"
      ],
      "metadata": {
        "id": "T6nM_yDJYTgl"
      },
      "execution_count": 76,
      "outputs": []
    },
    {
      "cell_type": "code",
      "source": [
        "arr2_z = np.array([[1,2,3],[4,5,6]]) # list ใหญ่ 1 ตัว มีสมาชิกเป็น list ย่อย 2 list list ย่อยละ 3 ตัว"
      ],
      "metadata": {
        "id": "ClogbEyXYvDs"
      },
      "execution_count": 77,
      "outputs": []
    },
    {
      "cell_type": "code",
      "source": [
        "arr2_z"
      ],
      "metadata": {
        "id": "tnnxVRPlZKYZ",
        "outputId": "3a05e1a1-4f80-4580-d71f-61880b227d90",
        "colab": {
          "base_uri": "https://localhost:8080/"
        }
      },
      "execution_count": 78,
      "outputs": [
        {
          "output_type": "execute_result",
          "data": {
            "text/plain": [
              "array([[1, 2, 3],\n",
              "       [4, 5, 6]])"
            ]
          },
          "metadata": {},
          "execution_count": 78
        }
      ]
    },
    {
      "cell_type": "markdown",
      "source": [
        "### np.zeros()"
      ],
      "metadata": {
        "id": "wjJoyF8OZ-1L"
      }
    },
    {
      "cell_type": "code",
      "source": [
        "arr2_3_5_0 = np.zeros((3,5))"
      ],
      "metadata": {
        "id": "OwNCXFJDaFT1"
      },
      "execution_count": 79,
      "outputs": []
    },
    {
      "cell_type": "code",
      "source": [
        "arr2_3_5_0 #การใส่ค่าใน array ก็เหมือนการใส่ค่าใน list"
      ],
      "metadata": {
        "id": "YM7zkmeIaRSz",
        "outputId": "5f8d393a-b8f4-465e-c086-ebfee884c70b",
        "colab": {
          "base_uri": "https://localhost:8080/"
        }
      },
      "execution_count": 80,
      "outputs": [
        {
          "output_type": "execute_result",
          "data": {
            "text/plain": [
              "array([[0., 0., 0., 0., 0.],\n",
              "       [0., 0., 0., 0., 0.],\n",
              "       [0., 0., 0., 0., 0.]])"
            ]
          },
          "metadata": {},
          "execution_count": 80
        }
      ]
    },
    {
      "cell_type": "code",
      "source": [
        "arr2_3_5_0[1,2] = 9 # กำหนดให้ แถวที่ 1 หลักที่ 2 เป็นค่า 9"
      ],
      "metadata": {
        "id": "VMksi0REacnb"
      },
      "execution_count": 84,
      "outputs": []
    },
    {
      "cell_type": "code",
      "source": [
        "arr2_3_5_0"
      ],
      "metadata": {
        "id": "6Bq3ZIO1bBSL",
        "outputId": "abdae896-299d-40b8-9ad7-04818201af4c",
        "colab": {
          "base_uri": "https://localhost:8080/"
        }
      },
      "execution_count": 85,
      "outputs": [
        {
          "output_type": "execute_result",
          "data": {
            "text/plain": [
              "array([[0., 0., 0., 0., 0.],\n",
              "       [0., 0., 9., 0., 0.],\n",
              "       [0., 0., 0., 0., 0.]])"
            ]
          },
          "metadata": {},
          "execution_count": 85
        }
      ]
    },
    {
      "cell_type": "code",
      "source": [
        "arr2_3_5_0[1,2] # ชี้ค่า"
      ],
      "metadata": {
        "id": "88s0oE1obN9D",
        "outputId": "3ed54d12-0e7c-44f1-b1ae-1949815a116c",
        "colab": {
          "base_uri": "https://localhost:8080/"
        }
      },
      "execution_count": 86,
      "outputs": [
        {
          "output_type": "execute_result",
          "data": {
            "text/plain": [
              "9.0"
            ]
          },
          "metadata": {},
          "execution_count": 86
        }
      ]
    },
    {
      "cell_type": "code",
      "source": [
        "print(list_A) # เปลี่ยนค่าใน list()\n",
        "list_A[-1] = 'christmas'\n",
        "print(list_A)"
      ],
      "metadata": {
        "id": "SMdSIqp9bXFz",
        "outputId": "5780df65-ec22-49c4-cb39-c0be363cacf4",
        "colab": {
          "base_uri": "https://localhost:8080/"
        }
      },
      "execution_count": 89,
      "outputs": [
        {
          "output_type": "stream",
          "name": "stdout",
          "text": [
            "[1, 2, 3, 4, 'chlrismas']\n",
            "[1, 2, 3, 4, 'christmas']\n"
          ]
        }
      ]
    },
    {
      "cell_type": "markdown",
      "source": [
        "#### np.ones()"
      ],
      "metadata": {
        "id": "zJevJEUscIz6"
      }
    },
    {
      "cell_type": "code",
      "source": [
        "arr2_4_5_1 = np.ones((4,5))"
      ],
      "metadata": {
        "id": "0cO7F29HcNKl"
      },
      "execution_count": 90,
      "outputs": []
    },
    {
      "cell_type": "code",
      "source": [
        "arr2_4_5_1"
      ],
      "metadata": {
        "id": "H_7QCoAAcU70",
        "outputId": "9ab1f621-71a4-4a2e-b20d-b21ad3ca8a79",
        "colab": {
          "base_uri": "https://localhost:8080/"
        }
      },
      "execution_count": 91,
      "outputs": [
        {
          "output_type": "execute_result",
          "data": {
            "text/plain": [
              "array([[1., 1., 1., 1., 1.],\n",
              "       [1., 1., 1., 1., 1.],\n",
              "       [1., 1., 1., 1., 1.],\n",
              "       [1., 1., 1., 1., 1.]])"
            ]
          },
          "metadata": {},
          "execution_count": 91
        }
      ]
    },
    {
      "cell_type": "code",
      "source": [
        "arr2_4_5_200 = 200*np.ones((4,5))"
      ],
      "metadata": {
        "id": "SDIl2GJAcbsz"
      },
      "execution_count": 94,
      "outputs": []
    },
    {
      "cell_type": "code",
      "source": [
        "arr2_4_5_200 "
      ],
      "metadata": {
        "id": "Ds8Wpeo0cvHp",
        "outputId": "8d9b953c-252b-4ad3-d645-c498b5973e9e",
        "colab": {
          "base_uri": "https://localhost:8080/"
        }
      },
      "execution_count": 97,
      "outputs": [
        {
          "output_type": "execute_result",
          "data": {
            "text/plain": [
              "200"
            ]
          },
          "metadata": {},
          "execution_count": 97
        }
      ]
    },
    {
      "cell_type": "markdown",
      "source": [
        "### Matrix operation\n",
        "การ บวก ลบ matrix $M + "
      ],
      "metadata": {
        "id": "p-ldS9dxc-Nx"
      }
    },
    {
      "cell_type": "code",
      "source": [
        "arr2_4_5_200 + arr2_3_5_0 # การบวก ลบ matrix shape ต้องเท่ากัน"
      ],
      "metadata": {
        "id": "xt3DgryFdMwi",
        "outputId": "5fa6bcbc-073c-41c2-d873-6353d680cf93",
        "colab": {
          "base_uri": "https://localhost:8080/"
        }
      },
      "execution_count": 98,
      "outputs": [
        {
          "output_type": "execute_result",
          "data": {
            "text/plain": [
              "array([[200., 200., 200., 200., 200.],\n",
              "       [200., 200., 209., 200., 200.],\n",
              "       [200., 200., 200., 200., 200.]])"
            ]
          },
          "metadata": {},
          "execution_count": 98
        }
      ]
    },
    {
      "cell_type": "code",
      "source": [
        ""
      ],
      "metadata": {
        "id": "1ZG2-B71dmEh"
      },
      "execution_count": null,
      "outputs": []
    },
    {
      "cell_type": "markdown",
      "source": [
        "#### การคูณ matrix \n",
        "- $aM$ scalar คูณ matrix (คูณกระจายเข้าไปในตัวของ Matrix)\n",
        "- $M\\"
      ],
      "metadata": {
        "id": "DfhQXthudpoy"
      }
    },
    {
      "cell_type": "markdown",
      "source": [
        "$aM$"
      ],
      "metadata": {
        "id": "NOaY9cw0ep4C"
      }
    },
    {
      "cell_type": "code",
      "source": [
        "5 * arr_a # Matrix (sclar multiplication)"
      ],
      "metadata": {
        "id": "JnDOTgLnevep",
        "outputId": "164dbde6-b641-4fbc-c36e-1d1ccdbbb87a",
        "colab": {
          "base_uri": "https://localhost:8080/"
        }
      },
      "execution_count": 99,
      "outputs": [
        {
          "output_type": "execute_result",
          "data": {
            "text/plain": [
              "array([ 5, 10, 15, 20, 25])"
            ]
          },
          "metadata": {},
          "execution_count": 99
        }
      ]
    },
    {
      "cell_type": "markdown",
      "source": [
        "$M\\times N$ (dot product)\n",
        "- (m, n) $\\times$ (n,o) = (m,o) (Shape)\n",
        "\n",
        "![image.png](data:image/png;base64,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)"
      ],
      "metadata": {
        "id": "l_LDJhF4fFvB"
      }
    },
    {
      "cell_type": "code",
      "source": [
        ""
      ],
      "metadata": {
        "id": "h-mW3h1AfwQb"
      },
      "execution_count": null,
      "outputs": []
    },
    {
      "cell_type": "code",
      "source": [
        "mat_a = np.array([[2,3,5],[4,6,7]])\n",
        "mat_b = np.array([[1,2,5],[2,4,-7]])\n",
        "mat_c = np.array([[2,3],[4,6],[7,9]])"
      ],
      "metadata": {
        "id": "nd4CYwvnf3vg"
      },
      "execution_count": 100,
      "outputs": []
    },
    {
      "cell_type": "code",
      "source": [
        "mat_a"
      ],
      "metadata": {
        "id": "nVnAULX7guTZ",
        "outputId": "14c6b1a5-38ec-4204-ad52-485c1b00d649",
        "colab": {
          "base_uri": "https://localhost:8080/"
        }
      },
      "execution_count": 101,
      "outputs": [
        {
          "output_type": "execute_result",
          "data": {
            "text/plain": [
              "array([[2, 3, 5],\n",
              "       [4, 6, 7]])"
            ]
          },
          "metadata": {},
          "execution_count": 101
        }
      ]
    },
    {
      "cell_type": "code",
      "source": [
        "mat_b"
      ],
      "metadata": {
        "id": "ogUZxdargyVx",
        "outputId": "2e133c56-808f-42ae-83df-7be24dd6ebb1",
        "colab": {
          "base_uri": "https://localhost:8080/"
        }
      },
      "execution_count": 102,
      "outputs": [
        {
          "output_type": "execute_result",
          "data": {
            "text/plain": [
              "array([[ 1,  2,  5],\n",
              "       [ 2,  4, -7]])"
            ]
          },
          "metadata": {},
          "execution_count": 102
        }
      ]
    },
    {
      "cell_type": "code",
      "source": [
        "mat_c"
      ],
      "metadata": {
        "id": "Mz6g8Ze3g3Qg",
        "outputId": "767584c4-0025-418c-ab2d-6354ea27704a",
        "colab": {
          "base_uri": "https://localhost:8080/"
        }
      },
      "execution_count": 103,
      "outputs": [
        {
          "output_type": "execute_result",
          "data": {
            "text/plain": [
              "array([[2, 3],\n",
              "       [4, 6],\n",
              "       [7, 9]])"
            ]
          },
          "metadata": {},
          "execution_count": 103
        }
      ]
    },
    {
      "cell_type": "code",
      "source": [
        "np.dot(mat_a,mat_c)"
      ],
      "metadata": {
        "id": "14hpT5XMg6np",
        "outputId": "57c96e3b-ee13-49bc-cf94-2c6f34eece31",
        "colab": {
          "base_uri": "https://localhost:8080/"
        }
      },
      "execution_count": 104,
      "outputs": [
        {
          "output_type": "execute_result",
          "data": {
            "text/plain": [
              "array([[ 51,  69],\n",
              "       [ 81, 111]])"
            ]
          },
          "metadata": {},
          "execution_count": 104
        }
      ]
    },
    {
      "cell_type": "code",
      "source": [
        "np.dot(mat_b,mat_c)"
      ],
      "metadata": {
        "id": "f3VlcTP7hEEA",
        "outputId": "d1fcb7e0-f225-4764-82d6-33115ef39b00",
        "colab": {
          "base_uri": "https://localhost:8080/"
        }
      },
      "execution_count": 105,
      "outputs": [
        {
          "output_type": "execute_result",
          "data": {
            "text/plain": [
              "array([[ 45,  60],\n",
              "       [-29, -33]])"
            ]
          },
          "metadata": {},
          "execution_count": 105
        }
      ]
    },
    {
      "cell_type": "code",
      "source": [
        "np.dot(mat_c,mat_a)"
      ],
      "metadata": {
        "id": "gwRgG2_5hLXy",
        "outputId": "cde3b9f1-b4be-49f5-c951-495565bd59da",
        "colab": {
          "base_uri": "https://localhost:8080/"
        }
      },
      "execution_count": 106,
      "outputs": [
        {
          "output_type": "execute_result",
          "data": {
            "text/plain": [
              "array([[16, 24, 31],\n",
              "       [32, 48, 62],\n",
              "       [50, 75, 98]])"
            ]
          },
          "metadata": {},
          "execution_count": 106
        }
      ]
    },
    {
      "cell_type": "code",
      "source": [
        "np.dot(mat_c,mat_b)"
      ],
      "metadata": {
        "id": "UIyRJ4bmhVWQ",
        "outputId": "999a55c3-e4c3-4936-c1bc-0b2ddc579920",
        "colab": {
          "base_uri": "https://localhost:8080/"
        }
      },
      "execution_count": 107,
      "outputs": [
        {
          "output_type": "execute_result",
          "data": {
            "text/plain": [
              "array([[  8,  16, -11],\n",
              "       [ 16,  32, -22],\n",
              "       [ 25,  50, -28]])"
            ]
          },
          "metadata": {},
          "execution_count": 107
        }
      ]
    },
    {
      "cell_type": "code",
      "source": [
        "mat_a * mat_b # คูณตัวตำแหน่งเดียวกัน"
      ],
      "metadata": {
        "id": "P_w_Tcp9hceB",
        "outputId": "7a30134d-ed33-433a-dd5b-427986ea085e",
        "colab": {
          "base_uri": "https://localhost:8080/"
        }
      },
      "execution_count": 108,
      "outputs": [
        {
          "output_type": "execute_result",
          "data": {
            "text/plain": [
              "array([[  2,   6,  25],\n",
              "       [  8,  24, -49]])"
            ]
          },
          "metadata": {},
          "execution_count": 108
        }
      ]
    },
    {
      "cell_type": "markdown",
      "source": [
        "### Matrix Slicing"
      ],
      "metadata": {
        "id": "u84i_pnPbWRB"
      }
    },
    {
      "cell_type": "code",
      "source": [
        ""
      ],
      "metadata": {
        "id": "HvxrRTwDiR8g"
      },
      "execution_count": null,
      "outputs": []
    },
    {
      "cell_type": "code",
      "source": [
        "mat_X = np.dot(mat_c,mat_b)\n",
        "print(mat_X)"
      ],
      "metadata": {
        "id": "U1XBRK5Uh-kn",
        "outputId": "eece4612-43d3-4522-9c31-963a8028b97a",
        "colab": {
          "base_uri": "https://localhost:8080/"
        }
      },
      "execution_count": 109,
      "outputs": [
        {
          "output_type": "stream",
          "name": "stdout",
          "text": [
            "[[  8  16 -11]\n",
            " [ 16  32 -22]\n",
            " [ 25  50 -28]]\n"
          ]
        }
      ]
    },
    {
      "cell_type": "code",
      "source": [
        "mat_X[:2,:2]"
      ],
      "metadata": {
        "id": "S8CyeWwgiVyI",
        "outputId": "9b3d2a25-d85f-43a4-f08f-e84fa7fe138c",
        "colab": {
          "base_uri": "https://localhost:8080/"
        }
      },
      "execution_count": 110,
      "outputs": [
        {
          "output_type": "execute_result",
          "data": {
            "text/plain": [
              "array([[ 8, 16],\n",
              "       [16, 32]])"
            ]
          },
          "metadata": {},
          "execution_count": 110
        }
      ]
    },
    {
      "cell_type": "markdown",
      "source": [
        "HW 3\n",
        "สร้าง array ให้เป็นต้น christmas"
      ],
      "metadata": {
        "id": "NZEXBmcAicC4"
      }
    },
    {
      "cell_type": "code",
      "source": [
        ""
      ],
      "metadata": {
        "id": "ONRJomm-ip7k"
      },
      "execution_count": null,
      "outputs": []
    },
    {
      "cell_type": "markdown",
      "source": [
        "## Pandas Dataframe (แยกออกไปเป็น Notebook เฉพาะ)"
      ],
      "metadata": {
        "id": "QCCKSBVwO1xp"
      }
    }
  ]
}