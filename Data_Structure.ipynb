{
  "nbformat": 4,
  "nbformat_minor": 0,
  "metadata": {
    "colab": {
      "name": "Data Structure.ipynb",
      "provenance": [],
      "authorship_tag": "ABX9TyOuswtGYbxSFyFMN9TepvgV",
      "include_colab_link": true
    },
    "kernelspec": {
      "name": "python3",
      "display_name": "Python 3"
    },
    "language_info": {
      "name": "python"
    }
  },
  "cells": [
    {
      "cell_type": "markdown",
      "metadata": {
        "id": "view-in-github",
        "colab_type": "text"
      },
      "source": [
        "<a href=\"https://colab.research.google.com/github/ploybongkot/data_viz_2022/blob/main/Data_Structure.ipynb\" target=\"_parent\"><img src=\"https://colab.research.google.com/assets/colab-badge.svg\" alt=\"Open In Colab\"/></a>"
      ]
    },
    {
      "cell_type": "markdown",
      "source": [
        "# Data structure (โครงสร้างข้อมูล) \n",
        "เอาไว้เก็บข้อมูลหลายๆตัว การเก็บข้อมูลหลายๆตัวก็มีโครงสร้างของมัน Data struceture ใช้สำหรับเก็บข้อมูลหลายๆตัวไว้ด้วยกันอย่างเป็นระเบียบ"
      ],
      "metadata": {
        "id": "fjrJeAbI5zlg"
      }
    },
    {
      "cell_type": "markdown",
      "source": [
        "## `List()`\n",
        "คือโครงสร้างข้อมูลที่ง่ายที่สุดที่เก็บอะไรก็ได้ การเก็บข้อมูลแบบเอามาต่อกัน เก็บอะไรไว้ด้วยกันก็ได้ ไม่ว่าจะเป็น int float string\n",
        "- เก็บอะไรก็ได้\n",
        "- ลำดับในการเก็บมีความสำคัญ"
      ],
      "metadata": {
        "id": "gdvZCSdk6ifp"
      }
    },
    {
      "cell_type": "code",
      "execution_count": 1,
      "metadata": {
        "id": "xuUvz2gn4qWH"
      },
      "outputs": [],
      "source": [
        "list_a = [1,2,3,4,5,6] # [ ] square brackets"
      ]
    },
    {
      "cell_type": "code",
      "source": [
        "list_a"
      ],
      "metadata": {
        "colab": {
          "base_uri": "https://localhost:8080/"
        },
        "id": "efKII6NI68rf",
        "outputId": "e7f07961-1871-488d-ea32-afcb899df12d"
      },
      "execution_count": 2,
      "outputs": [
        {
          "output_type": "execute_result",
          "data": {
            "text/plain": [
              "[1, 2, 3, 4, 5, 6]"
            ]
          },
          "metadata": {},
          "execution_count": 2
        }
      ]
    },
    {
      "cell_type": "code",
      "source": [
        "list_b = ['ab',2,3.14,list_a]"
      ],
      "metadata": {
        "id": "5JKO6HsBN1z8"
      },
      "execution_count": 3,
      "outputs": []
    },
    {
      "cell_type": "code",
      "source": [
        "list_b"
      ],
      "metadata": {
        "colab": {
          "base_uri": "https://localhost:8080/"
        },
        "id": "nx2Jd8Ab8EXB",
        "outputId": "2c6c0c60-71ee-432b-d1c2-e5351e38a6ca"
      },
      "execution_count": 4,
      "outputs": [
        {
          "output_type": "execute_result",
          "data": {
            "text/plain": [
              "['ab', 2, 3.14, [1, 2, 3, 4, 5, 6]]"
            ]
          },
          "metadata": {},
          "execution_count": 4
        }
      ]
    },
    {
      "cell_type": "markdown",
      "source": [
        "### indexing การชี้สมาชิกใน list ด้วย เลขลำดับของ list"
      ],
      "metadata": {
        "id": "igYC_3o98L4e"
      }
    },
    {
      "cell_type": "code",
      "source": [
        "list_a[3]   # ดึงข้อมูลตัวที่ 3 ของ list_a (เริ่มนับจาก 0,1,2,...,)"
      ],
      "metadata": {
        "id": "zK2NvWV68diG",
        "outputId": "79954d66-9a58-4644-a4a1-8e2bcf560fec",
        "colab": {
          "base_uri": "https://localhost:8080/"
        }
      },
      "execution_count": 5,
      "outputs": [
        {
          "output_type": "execute_result",
          "data": {
            "text/plain": [
              "4"
            ]
          },
          "metadata": {},
          "execution_count": 5
        }
      ]
    },
    {
      "cell_type": "code",
      "source": [
        "list_b[3]"
      ],
      "metadata": {
        "id": "R7SFnco8OCs7",
        "outputId": "fcf7a599-ad15-486d-fe54-189b12e6d6bb",
        "colab": {
          "base_uri": "https://localhost:8080/"
        }
      },
      "execution_count": 6,
      "outputs": [
        {
          "output_type": "execute_result",
          "data": {
            "text/plain": [
              "[1, 2, 3, 4, 5, 6]"
            ]
          },
          "metadata": {},
          "execution_count": 6
        }
      ]
    },
    {
      "cell_type": "code",
      "source": [
        "list_b[3][4]"
      ],
      "metadata": {
        "id": "Qfu2s-5DOGf7",
        "outputId": "b9cdaf8f-8dd0-4e03-c525-f17ff8b018ae",
        "colab": {
          "base_uri": "https://localhost:8080/"
        }
      },
      "execution_count": 7,
      "outputs": [
        {
          "output_type": "execute_result",
          "data": {
            "text/plain": [
              "5"
            ]
          },
          "metadata": {},
          "execution_count": 7
        }
      ]
    },
    {
      "cell_type": "code",
      "source": [
        "list_a[-1]      # index -1 คือตัวสุดท้ายของ list"
      ],
      "metadata": {
        "id": "KnqXUu5fOJOa",
        "outputId": "01bf7350-6248-4034-b333-19b9e080adb7",
        "colab": {
          "base_uri": "https://localhost:8080/"
        }
      },
      "execution_count": 8,
      "outputs": [
        {
          "output_type": "execute_result",
          "data": {
            "text/plain": [
              "6"
            ]
          },
          "metadata": {},
          "execution_count": 8
        }
      ]
    },
    {
      "cell_type": "code",
      "source": [
        "list_a[-4]"
      ],
      "metadata": {
        "id": "boyoboQjOMQz",
        "outputId": "a4dcf3d1-c750-41ff-cfe4-fb73098088b3",
        "colab": {
          "base_uri": "https://localhost:8080/"
        }
      },
      "execution_count": 9,
      "outputs": [
        {
          "output_type": "execute_result",
          "data": {
            "text/plain": [
              "3"
            ]
          },
          "metadata": {},
          "execution_count": 9
        }
      ]
    },
    {
      "cell_type": "markdown",
      "source": [
        "### การสร้าง `list()`"
      ],
      "metadata": {
        "id": "mhU4eQQH9-sW"
      }
    },
    {
      "cell_type": "code",
      "source": [
        "list_x1 = [] # แบบที่ 1\n",
        "list_x2 = list() # แบบที่ 2"
      ],
      "metadata": {
        "id": "eANKO5B2-DRe"
      },
      "execution_count": 10,
      "outputs": []
    },
    {
      "cell_type": "code",
      "source": [
        "print(list_x1)\n",
        "print(list_x2)"
      ],
      "metadata": {
        "colab": {
          "base_uri": "https://localhost:8080/"
        },
        "id": "ceiv1xxK-V5O",
        "outputId": "19568d97-6488-4a25-b27e-fd9eca610a3c"
      },
      "execution_count": 11,
      "outputs": [
        {
          "output_type": "stream",
          "name": "stdout",
          "text": [
            "[]\n",
            "[]\n"
          ]
        }
      ]
    },
    {
      "cell_type": "markdown",
      "source": [
        "### เพิ่มสมาชิกเข้าไปใน list ด้วย `append()`"
      ],
      "metadata": {
        "id": "nWVwYCfM-gB3"
      }
    },
    {
      "cell_type": "code",
      "source": [
        "list_x1.append(2) # เพิ่ม 2 เข้าไปใน list_x1"
      ],
      "metadata": {
        "id": "FJymvXsf-siF"
      },
      "execution_count": 12,
      "outputs": []
    },
    {
      "cell_type": "code",
      "source": [
        "list_x1"
      ],
      "metadata": {
        "colab": {
          "base_uri": "https://localhost:8080/"
        },
        "id": "9JjpEqap-yeG",
        "outputId": "68b2691f-75e2-47aa-b245-7d4dfb36a907"
      },
      "execution_count": 13,
      "outputs": [
        {
          "output_type": "execute_result",
          "data": {
            "text/plain": [
              "[2]"
            ]
          },
          "metadata": {},
          "execution_count": 13
        }
      ]
    },
    {
      "cell_type": "code",
      "source": [
        "list_x1.append(4) # เพิ่ม 4 เข้าไปใน list_x1\n",
        "print(list_x1) # run กี่รอบก็จะเพิ่มเข้าไปเท่านั้น"
      ],
      "metadata": {
        "colab": {
          "base_uri": "https://localhost:8080/"
        },
        "id": "IDUnL2ws-1A1",
        "outputId": "e141bd6f-48ee-4360-bc0e-ad954f867fa7"
      },
      "execution_count": 14,
      "outputs": [
        {
          "output_type": "stream",
          "name": "stdout",
          "text": [
            "[2, 4]\n"
          ]
        }
      ]
    },
    {
      "cell_type": "code",
      "source": [
        "list_x2.append('ha') # รันตรงนี้สองรอบอะ"
      ],
      "metadata": {
        "id": "QdNSmykyOnpT"
      },
      "execution_count": 17,
      "outputs": []
    },
    {
      "cell_type": "code",
      "source": [
        "list_x2     # run -> list_x2.append('ha') สองรอบ จะได้ ['ha', 'ha']"
      ],
      "metadata": {
        "id": "_WQfU0BEOr7M",
        "outputId": "88249300-e17f-490e-8a9f-fb278e87f319",
        "colab": {
          "base_uri": "https://localhost:8080/"
        }
      },
      "execution_count": 18,
      "outputs": [
        {
          "output_type": "execute_result",
          "data": {
            "text/plain": [
              "['ha', 'ha']"
            ]
          },
          "metadata": {},
          "execution_count": 18
        }
      ]
    },
    {
      "cell_type": "markdown",
      "source": [
        "### ลบสมาชิกจาก list \n",
        "ปกติเขาไม่ค่อยทำกันนะ มันงง"
      ],
      "metadata": {
        "id": "U6IZYP1hAOxU"
      }
    },
    {
      "cell_type": "code",
      "source": [
        "list_x1.append('ha')"
      ],
      "metadata": {
        "id": "oztoW3mlAS69"
      },
      "execution_count": 19,
      "outputs": []
    },
    {
      "cell_type": "code",
      "source": [
        "list_x1"
      ],
      "metadata": {
        "colab": {
          "base_uri": "https://localhost:8080/"
        },
        "id": "XuaKcTAuAZ7V",
        "outputId": "4409e636-1d06-45b0-9856-73adb08d054c"
      },
      "execution_count": 20,
      "outputs": [
        {
          "output_type": "execute_result",
          "data": {
            "text/plain": [
              "[2, 4, 'ha']"
            ]
          },
          "metadata": {},
          "execution_count": 20
        }
      ]
    },
    {
      "cell_type": "code",
      "source": [
        "list_x1.pop() # pop ใช้ดึงสมาชิกตัวหลังสุดออกมา"
      ],
      "metadata": {
        "id": "7Y-i44xUB690",
        "outputId": "84970f40-2c3d-493f-aba3-6efbb2a1d70c",
        "colab": {
          "base_uri": "https://localhost:8080/",
          "height": 35
        }
      },
      "execution_count": 21,
      "outputs": [
        {
          "output_type": "execute_result",
          "data": {
            "application/vnd.google.colaboratory.intrinsic+json": {
              "type": "string"
            },
            "text/plain": [
              "'ha'"
            ]
          },
          "metadata": {},
          "execution_count": 21
        }
      ]
    },
    {
      "cell_type": "code",
      "source": [
        "list_x1"
      ],
      "metadata": {
        "colab": {
          "base_uri": "https://localhost:8080/"
        },
        "id": "bIYxtGYRAs-8",
        "outputId": "383e9c19-6e7a-4982-d2b8-6778a7acc40f"
      },
      "execution_count": 22,
      "outputs": [
        {
          "output_type": "execute_result",
          "data": {
            "text/plain": [
              "[2, 4]"
            ]
          },
          "metadata": {},
          "execution_count": 22
        }
      ]
    },
    {
      "cell_type": "markdown",
      "source": [
        "### `len()` ตรวจสอบสมาชิกของ list"
      ],
      "metadata": {
        "id": "iTptiLN_CFRd"
      }
    },
    {
      "cell_type": "code",
      "source": [
        "print(list_b)\n",
        "print(len(list_b)) # เราจะนับตรง , ถ้ามี , 3 ตัว แสดงว่ามีสมาชิก 4 ตัว"
      ],
      "metadata": {
        "colab": {
          "base_uri": "https://localhost:8080/"
        },
        "id": "772w390ZCNtb",
        "outputId": "4bf34da0-e1e4-463b-fe18-a0c25e8643f8"
      },
      "execution_count": 24,
      "outputs": [
        {
          "output_type": "stream",
          "name": "stdout",
          "text": [
            "['ab', 2, 3.14, [1, 2, 3, 4, 5, 6]]\n",
            "4\n"
          ]
        }
      ]
    },
    {
      "cell_type": "code",
      "source": [
        "len(list_a)     # len จะนับจำนวนที่แท้จริง (เริ่มจาก 1 ไม่ใช่ 0)"
      ],
      "metadata": {
        "id": "LhZc5VoIPuB7",
        "outputId": "611ddcad-1a90-47f3-e063-c09ee07f49eb",
        "colab": {
          "base_uri": "https://localhost:8080/"
        }
      },
      "execution_count": 25,
      "outputs": [
        {
          "output_type": "execute_result",
          "data": {
            "text/plain": [
              "6"
            ]
          },
          "metadata": {},
          "execution_count": 25
        }
      ]
    },
    {
      "cell_type": "markdown",
      "source": [
        "### String is a list of chaacters"
      ],
      "metadata": {
        "id": "4qjrwBoUC9ZV"
      }
    },
    {
      "cell_type": "code",
      "source": [
        "at_stat = 'Department of Statistics, Faculty of Science'"
      ],
      "metadata": {
        "id": "6CKJ2h-xDEpz"
      },
      "execution_count": 26,
      "outputs": []
    },
    {
      "cell_type": "code",
      "source": [
        "at_stat[10]"
      ],
      "metadata": {
        "colab": {
          "base_uri": "https://localhost:8080/",
          "height": 35
        },
        "id": "2N8t9Al5DSor",
        "outputId": "4ae0ec86-1ccc-4e7a-9708-03448d5f17fc"
      },
      "execution_count": 27,
      "outputs": [
        {
          "output_type": "execute_result",
          "data": {
            "application/vnd.google.colaboratory.intrinsic+json": {
              "type": "string"
            },
            "text/plain": [
              "' '"
            ]
          },
          "metadata": {},
          "execution_count": 27
        }
      ]
    },
    {
      "cell_type": "code",
      "source": [
        "len(at_stat)"
      ],
      "metadata": {
        "colab": {
          "base_uri": "https://localhost:8080/"
        },
        "id": "aRUU-jZKDYL9",
        "outputId": "8c60cd8a-d652-422a-ecca-b88b40090e64"
      },
      "execution_count": 28,
      "outputs": [
        {
          "output_type": "execute_result",
          "data": {
            "text/plain": [
              "44"
            ]
          },
          "metadata": {},
          "execution_count": 28
        }
      ]
    },
    {
      "cell_type": "markdown",
      "source": [
        "\n",
        "### List Slicing `:`\n",
        "`list[จุดเริ่มต้น:จุดสุดท้าย)`\n",
        "\n",
        "`list[จุดเริ่มต้น:จุดสุดท้าย:step)`\n",
        "\n",
        "** step คือ กระโดดกี่ตัว\n",
        "การเฉือน list"
      ],
      "metadata": {
        "id": "yt7dRiYrDjty"
      }
    },
    {
      "cell_type": "code",
      "source": [
        "list_a"
      ],
      "metadata": {
        "id": "5GATPP3SDydD",
        "outputId": "d5dccc63-7157-4920-c076-17d5afc79251",
        "colab": {
          "base_uri": "https://localhost:8080/"
        }
      },
      "execution_count": 29,
      "outputs": [
        {
          "output_type": "execute_result",
          "data": {
            "text/plain": [
              "[1, 2, 3, 4, 5, 6]"
            ]
          },
          "metadata": {},
          "execution_count": 29
        }
      ]
    },
    {
      "cell_type": "code",
      "source": [
        "list_a[2]       # ทำแบบนี้จะดึงมาได้แค่ตัวเดียว"
      ],
      "metadata": {
        "id": "dKLiKoWuQE5y",
        "outputId": "5538fadc-ffbd-477a-8d86-fdc34525da39",
        "colab": {
          "base_uri": "https://localhost:8080/"
        }
      },
      "execution_count": 30,
      "outputs": [
        {
          "output_type": "execute_result",
          "data": {
            "text/plain": [
              "3"
            ]
          },
          "metadata": {},
          "execution_count": 30
        }
      ]
    },
    {
      "cell_type": "markdown",
      "source": [
        "#### `:` colon"
      ],
      "metadata": {
        "id": "zPWv4RuDQLMh"
      }
    },
    {
      "cell_type": "code",
      "source": [
        "list_a[-3:]     # ตัดมาแค่ 3 ตัวสุดท้าย"
      ],
      "metadata": {
        "id": "TPqQPLS8QP0B",
        "outputId": "922c68bf-c875-44c9-c746-b2bcf347e398",
        "colab": {
          "base_uri": "https://localhost:8080/"
        }
      },
      "execution_count": 31,
      "outputs": [
        {
          "output_type": "execute_result",
          "data": {
            "text/plain": [
              "[4, 5, 6]"
            ]
          },
          "metadata": {},
          "execution_count": 31
        }
      ]
    },
    {
      "cell_type": "code",
      "source": [
        "list_a[1:4]     # ตัด 2,3,4 มา   # เริ่มนับจาก 0,1,2,..."
      ],
      "metadata": {
        "id": "sJB3Dcz-QS-o",
        "outputId": "a9b8f3e1-cb4b-4b9a-9d0a-e20f540d7205",
        "colab": {
          "base_uri": "https://localhost:8080/"
        }
      },
      "execution_count": 32,
      "outputs": [
        {
          "output_type": "execute_result",
          "data": {
            "text/plain": [
              "[2, 3, 4]"
            ]
          },
          "metadata": {},
          "execution_count": 32
        }
      ]
    },
    {
      "cell_type": "code",
      "source": [
        "list_a[:]       # เอาทุกตัว"
      ],
      "metadata": {
        "id": "7CDpxuzGQV4J",
        "outputId": "94b7dc3b-96cd-456a-8469-efd1a07eb11f",
        "colab": {
          "base_uri": "https://localhost:8080/"
        }
      },
      "execution_count": 33,
      "outputs": [
        {
          "output_type": "execute_result",
          "data": {
            "text/plain": [
              "[1, 2, 3, 4, 5, 6]"
            ]
          },
          "metadata": {},
          "execution_count": 33
        }
      ]
    },
    {
      "cell_type": "markdown",
      "source": [
        "#### step"
      ],
      "metadata": {
        "id": "Wt5DEq9wQY4A"
      }
    },
    {
      "cell_type": "code",
      "source": [
        "list_c = [1,2,3,4,5,6,7,8,9,10,11,12,13]"
      ],
      "metadata": {
        "id": "A8z-dFxQQbNp"
      },
      "execution_count": 34,
      "outputs": []
    },
    {
      "cell_type": "code",
      "source": [
        "list_c[:10:]"
      ],
      "metadata": {
        "id": "_bijYYiTQd7R",
        "outputId": "19232420-8474-4e0c-c35a-ebb5e7574171",
        "colab": {
          "base_uri": "https://localhost:8080/"
        }
      },
      "execution_count": 35,
      "outputs": [
        {
          "output_type": "execute_result",
          "data": {
            "text/plain": [
              "[1, 2, 3, 4, 5, 6, 7, 8, 9, 10]"
            ]
          },
          "metadata": {},
          "execution_count": 35
        }
      ]
    },
    {
      "cell_type": "code",
      "source": [
        "list_c[:10:2]"
      ],
      "metadata": {
        "id": "iYj2JmW1Qmd5",
        "outputId": "a65769c6-cd25-4067-ef11-8d783ea9159d",
        "colab": {
          "base_uri": "https://localhost:8080/"
        }
      },
      "execution_count": 36,
      "outputs": [
        {
          "output_type": "execute_result",
          "data": {
            "text/plain": [
              "[1, 3, 5, 7, 9]"
            ]
          },
          "metadata": {},
          "execution_count": 36
        }
      ]
    },
    {
      "cell_type": "code",
      "source": [
        "list_c[::-1]        # ดึงจากท้ายมาหน้า (สลับ)"
      ],
      "metadata": {
        "id": "fa5kjckSQqMx",
        "outputId": "bb373e05-b434-4556-fe49-45385c8e41f8",
        "colab": {
          "base_uri": "https://localhost:8080/"
        }
      },
      "execution_count": 37,
      "outputs": [
        {
          "output_type": "execute_result",
          "data": {
            "text/plain": [
              "[13, 12, 11, 10, 9, 8, 7, 6, 5, 4, 3, 2, 1]"
            ]
          },
          "metadata": {},
          "execution_count": 37
        }
      ]
    },
    {
      "cell_type": "markdown",
      "source": [
        "ข้อความตัวเอียง### `range()`"
      ],
      "metadata": {
        "id": "cMEQUHsEQtbS"
      }
    },
    {
      "cell_type": "code",
      "source": [
        "range(21)       # range ความยาว 21 ตัว ค่า 0-20"
      ],
      "metadata": {
        "id": "K7ZYtudMQ2-5",
        "outputId": "80c5ce7a-a3f5-4132-b2ac-e99173dc4e93",
        "colab": {
          "base_uri": "https://localhost:8080/"
        }
      },
      "execution_count": 38,
      "outputs": [
        {
          "output_type": "execute_result",
          "data": {
            "text/plain": [
              "range(0, 21)"
            ]
          },
          "metadata": {},
          "execution_count": 38
        }
      ]
    },
    {
      "cell_type": "code",
      "source": [
        "a = list(range(21))"
      ],
      "metadata": {
        "id": "YJbX6gSkQ6-i"
      },
      "execution_count": 39,
      "outputs": []
    },
    {
      "cell_type": "code",
      "source": [
        "a"
      ],
      "metadata": {
        "id": "cx5KSB36Q9bq",
        "outputId": "519b01a7-f5c0-45e0-c97f-92a554692b8d",
        "colab": {
          "base_uri": "https://localhost:8080/"
        }
      },
      "execution_count": 40,
      "outputs": [
        {
          "output_type": "execute_result",
          "data": {
            "text/plain": [
              "[0, 1, 2, 3, 4, 5, 6, 7, 8, 9, 10, 11, 12, 13, 14, 15, 16, 17, 18, 19, 20]"
            ]
          },
          "metadata": {},
          "execution_count": 40
        }
      ]
    },
    {
      "cell_type": "code",
      "source": [
        "list(range(1,21))       # input 2 ตัว"
      ],
      "metadata": {
        "id": "GzK8hqRJRFEx",
        "outputId": "21cfbf4d-cda3-4eed-b7ad-9b717d2f93f9",
        "colab": {
          "base_uri": "https://localhost:8080/"
        }
      },
      "execution_count": 41,
      "outputs": [
        {
          "output_type": "execute_result",
          "data": {
            "text/plain": [
              "[1, 2, 3, 4, 5, 6, 7, 8, 9, 10, 11, 12, 13, 14, 15, 16, 17, 18, 19, 20]"
            ]
          },
          "metadata": {},
          "execution_count": 41
        }
      ]
    },
    {
      "cell_type": "markdown",
      "source": [
        "## HW2 คำนวนเวลาเป็นวินาทีขอเวลาต่อไปนี้โดยใช้คำสั่ง split() ช่วย (print ออกมาให้สวยงาม)\n",
        "- 12:30:15\n",
        "- 13:41:07\n",
        "- 09:11:50\n",
        "- 21:30:15\n",
        "- 03:10:15"
      ],
      "metadata": {
        "id": "JQItsRP0RJfn"
      }
    },
    {
      "cell_type": "code",
      "source": [
        "#Ex00 01:02:03\n",
        "\n",
        "Ex00 = (1*60*60) + (2*60) + 3\n",
        "print(f'01:02:03 แปลงเป็นวินาที ได้ {Ex00} วินาที')"
      ],
      "metadata": {
        "id": "8rOjocbrRQ6d",
        "outputId": "899f9826-7b14-49e6-812a-c047e64fab97",
        "colab": {
          "base_uri": "https://localhost:8080/"
        }
      },
      "execution_count": 42,
      "outputs": [
        {
          "output_type": "stream",
          "name": "stdout",
          "text": [
            "01:02:03 แปลงเป็นวินาที ได้ 3723 วินาที\n"
          ]
        }
      ]
    },
    {
      "cell_type": "code",
      "source": [
        "#Ex01 12:30:15\n",
        "\n",
        "Ex01 = '12:30:15'\n",
        "Ex01_sp = Ex01.split(':')\n",
        "Ex01_sp = int(Ex01_sp[0])*60*60 + int(Ex01_sp[1])*60 + int(Ex01_sp[2])\n",
        "print(f'{Ex01} แปลงเป็นวินาที ได้ {Ex01_sp} วินาที')"
      ],
      "metadata": {
        "id": "sQSF1gt4RatZ",
        "outputId": "bc443357-4385-449f-ed91-c1e220b86e88",
        "colab": {
          "base_uri": "https://localhost:8080/"
        }
      },
      "execution_count": 43,
      "outputs": [
        {
          "output_type": "stream",
          "name": "stdout",
          "text": [
            "12:30:15 แปลงเป็นวินาที ได้ 45015 วินาที\n"
          ]
        }
      ]
    },
    {
      "cell_type": "code",
      "source": [
        "#Ex02 13:41:07\n",
        "\n",
        "Ex02 = '13:41:07'\n",
        "Ex02_sp = Ex02.split(':')\n",
        "Ex02_sp = int(Ex02_sp[0])*60*60 + int(Ex02_sp[1])*60 + int(Ex02_sp[2])\n",
        "print(f'{Ex02} แปลงเป็นวินาที ได้ {Ex02_sp} วินาที')"
      ],
      "metadata": {
        "id": "2hzrEgZXRhRw",
        "outputId": "0413de47-ce06-412b-98ff-3f0649c85fbd",
        "colab": {
          "base_uri": "https://localhost:8080/"
        }
      },
      "execution_count": 44,
      "outputs": [
        {
          "output_type": "stream",
          "name": "stdout",
          "text": [
            "13:41:07 แปลงเป็นวินาที ได้ 49267 วินาที\n"
          ]
        }
      ]
    },
    {
      "cell_type": "code",
      "source": [
        "#Ex03 09:11:50\n",
        "\n",
        "Ex03 = '09:11:50'\n",
        "Ex03_sp = Ex03.split(':')\n",
        "Ex03_sp = int(Ex03_sp[0])*60*60 + int(Ex03_sp[1])*60 + int(Ex03_sp[2])\n",
        "print(f'{Ex03} แปลงเป็นวินาที ได้ {Ex03_sp} วินาที')"
      ],
      "metadata": {
        "id": "2dCl3qZZRm34",
        "outputId": "644d9c45-20a3-4489-a0dd-c16b4662bf49",
        "colab": {
          "base_uri": "https://localhost:8080/"
        }
      },
      "execution_count": 45,
      "outputs": [
        {
          "output_type": "stream",
          "name": "stdout",
          "text": [
            "09:11:50 แปลงเป็นวินาที ได้ 33110 วินาที\n"
          ]
        }
      ]
    },
    {
      "cell_type": "code",
      "source": [
        "#Ex04 21:30:15\n",
        "\n",
        "Ex04 = '21:30:15'\n",
        "Ex04_sp = Ex04.split(':')\n",
        "Ex04_sp = int(Ex04_sp[0])*60*60 + int(Ex04_sp[1])*60 + int(Ex04_sp[2])\n",
        "print(f'{Ex04} แปลงเป็นวินาที ได้ {Ex04_sp} วินาที')"
      ],
      "metadata": {
        "id": "ngQmAgkORqEl",
        "outputId": "6ab1aa76-3a0e-4c80-fe22-b99e4196cff4",
        "colab": {
          "base_uri": "https://localhost:8080/"
        }
      },
      "execution_count": 46,
      "outputs": [
        {
          "output_type": "stream",
          "name": "stdout",
          "text": [
            "21:30:15 แปลงเป็นวินาที ได้ 77415 วินาที\n"
          ]
        }
      ]
    },
    {
      "cell_type": "code",
      "source": [
        "#Ex05 03:10:15\n",
        "\n",
        "Ex05 = '03:10:15'\n",
        "Ex05_sp = Ex05.split(':')\n",
        "Ex05_sp = int(Ex05_sp[0])*60*60 + int(Ex05_sp[1])*60 + int(Ex05_sp[2])\n",
        "print(f'{Ex05} แปลงเป็นวินาที ได้ {Ex05_sp} วินาที')"
      ],
      "metadata": {
        "id": "h7vviBNnR353",
        "outputId": "18155bb6-db65-4cc0-aff6-e2cfb47b3fc8",
        "colab": {
          "base_uri": "https://localhost:8080/"
        }
      },
      "execution_count": 47,
      "outputs": [
        {
          "output_type": "stream",
          "name": "stdout",
          "text": [
            "03:10:15 แปลงเป็นวินาที ได้ 11415 วินาที\n"
          ]
        }
      ]
    }
  ]
}