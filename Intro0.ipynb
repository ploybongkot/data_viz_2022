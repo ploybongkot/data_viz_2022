{
  "nbformat": 4,
  "nbformat_minor": 0,
  "metadata": {
    "colab": {
      "name": "Intro0.ipynb",
      "provenance": [],
      "authorship_tag": "ABX9TyMNKv3bv07r18oi5OuK46vx",
      "include_colab_link": true
    },
    "kernelspec": {
      "name": "python3",
      "display_name": "Python 3"
    },
    "language_info": {
      "name": "python"
    }
  },
  "cells": [
    {
      "cell_type": "markdown",
      "metadata": {
        "id": "view-in-github",
        "colab_type": "text"
      },
      "source": [
        "<a href=\"https://colab.research.google.com/github/ploybongkot/data_viz_2022/blob/main/Intro0.ipynb\" target=\"_parent\"><img src=\"https://colab.research.google.com/assets/colab-badge.svg\" alt=\"Open In Colab\"/></a>"
      ]
    },
    {
      "cell_type": "markdown",
      "source": [
        "# Introduction to Basic Programming for Data Science and Data Visualization"
      ],
      "metadata": {
        "id": "FQ9NeVHjw3_U"
      }
    },
    {
      "cell_type": "code",
      "execution_count": 1,
      "metadata": {
        "colab": {
          "base_uri": "https://localhost:8080/"
        },
        "id": "V0j2lAFCg8Em",
        "outputId": "a657f903-c095-4372-a185-3902293893f7"
      },
      "outputs": [
        {
          "output_type": "execute_result",
          "data": {
            "text/plain": [
              "3"
            ]
          },
          "metadata": {},
          "execution_count": 1
        }
      ],
      "source": [
        "a = 1\n",
        "b = 2\n",
        "a + b"
      ]
    },
    {
      "cell_type": "markdown",
      "source": [
        "1 + 2"
      ],
      "metadata": {
        "id": "Ck_9ZTFgxFng"
      }
    },
    {
      "cell_type": "code",
      "source": [
        "print('พลอยบงกช แสงโทโพธิ์ ID 623021051-4')"
      ],
      "metadata": {
        "colab": {
          "base_uri": "https://localhost:8080/"
        },
        "id": "pJ0ec3JMxJOn",
        "outputId": "cc6117ff-56a1-4aa6-a885-fe37e414af35"
      },
      "execution_count": 2,
      "outputs": [
        {
          "output_type": "stream",
          "name": "stdout",
          "text": [
            "พลอยบงกช แสงโทโพธิ์ ID 623021051-4\n"
          ]
        }
      ]
    }
  ]
}